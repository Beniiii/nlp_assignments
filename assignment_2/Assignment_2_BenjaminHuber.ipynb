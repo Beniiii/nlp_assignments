{
 "cells": [
  {
   "cell_type": "markdown",
   "metadata": {},
   "source": [
    "# Assignment 2 / Author Profiling -- Gender and Age"
   ]
  },
  {
   "cell_type": "code",
   "execution_count": 1,
   "metadata": {},
   "outputs": [],
   "source": [
    "import nltk\n",
    "import csv\n",
    "import itertools\n",
    "from scipy.sparse import dok_matrix\n",
    "import numpy as np\n",
    "import pandas as pd\n",
    "from sklearn.metrics import confusion_matrix\n",
    "from sklearn.metrics import accuracy_score\n",
    "from sklearn.feature_extraction.text import CountVectorizer\n",
    "from sklearn.feature_extraction.text import TfidfTransformer\n",
    "from sklearn.naive_bayes import MultinomialNB\n",
    "from sklearn.multiclass import OneVsRestClassifier\n",
    "from sklearn.model_selection import train_test_split\n",
    "from sklearn.metrics import confusion_matrix\n",
    "from sklearn.metrics import classification_report\n",
    "import matplotlib.pyplot as plt\n",
    "from bs4 import BeautifulSoup\n",
    "from nltk import word_tokenize          \n",
    "from nltk.stem import WordNetLemmatizer \n",
    "from nltk.stem import PorterStemmer"
   ]
  },
  {
   "cell_type": "markdown",
   "metadata": {},
   "source": [
    "## Daten einlesen"
   ]
  },
  {
   "cell_type": "code",
   "execution_count": 2,
   "metadata": {},
   "outputs": [],
   "source": [
    "messages = pd.read_csv('Messages_train.csv', sep=',')"
   ]
  },
  {
   "cell_type": "code",
   "execution_count": 3,
   "metadata": {},
   "outputs": [
    {
     "data": {
      "text/html": [
       "<div>\n",
       "<style scoped>\n",
       "    .dataframe tbody tr th:only-of-type {\n",
       "        vertical-align: middle;\n",
       "    }\n",
       "\n",
       "    .dataframe tbody tr th {\n",
       "        vertical-align: top;\n",
       "    }\n",
       "\n",
       "    .dataframe thead th {\n",
       "        text-align: right;\n",
       "    }\n",
       "</style>\n",
       "<table border=\"1\" class=\"dataframe\">\n",
       "  <thead>\n",
       "    <tr style=\"text-align: right;\">\n",
       "      <th></th>\n",
       "      <th>id</th>\n",
       "      <th>text</th>\n",
       "      <th>person_gender</th>\n",
       "      <th>person_age</th>\n",
       "    </tr>\n",
       "  </thead>\n",
       "  <tbody>\n",
       "    <tr>\n",
       "      <th>0</th>\n",
       "      <td>117808</td>\n",
       "      <td>The particular DKNY bags are among the leading...</td>\n",
       "      <td>male</td>\n",
       "      <td>20s</td>\n",
       "    </tr>\n",
       "    <tr>\n",
       "      <th>1</th>\n",
       "      <td>5634</td>\n",
       "      <td>Dental implants are posts made of titanium tha...</td>\n",
       "      <td>female</td>\n",
       "      <td>30s</td>\n",
       "    </tr>\n",
       "    <tr>\n",
       "      <th>2</th>\n",
       "      <td>94820</td>\n",
       "      <td>&lt;p style=\"text-align:center;]&lt;a href=\"http://e...</td>\n",
       "      <td>female</td>\n",
       "      <td>20s</td>\n",
       "    </tr>\n",
       "    <tr>\n",
       "      <th>3</th>\n",
       "      <td>64510</td>\n",
       "      <td>The primary business I joined was the Gospel N...</td>\n",
       "      <td>male</td>\n",
       "      <td>20s</td>\n",
       "    </tr>\n",
       "    <tr>\n",
       "      <th>4</th>\n",
       "      <td>89288</td>\n",
       "      <td>Taking QR Codes to Another Level&lt;br /&gt;QR Codes...</td>\n",
       "      <td>female</td>\n",
       "      <td>30s</td>\n",
       "    </tr>\n",
       "  </tbody>\n",
       "</table>\n",
       "</div>"
      ],
      "text/plain": [
       "       id                                               text person_gender  \\\n",
       "0  117808  The particular DKNY bags are among the leading...          male   \n",
       "1    5634  Dental implants are posts made of titanium tha...        female   \n",
       "2   94820  <p style=\"text-align:center;]<a href=\"http://e...        female   \n",
       "3   64510  The primary business I joined was the Gospel N...          male   \n",
       "4   89288  Taking QR Codes to Another Level<br />QR Codes...        female   \n",
       "\n",
       "  person_age  \n",
       "0        20s  \n",
       "1        30s  \n",
       "2        20s  \n",
       "3        20s  \n",
       "4        30s  "
      ]
     },
     "execution_count": 3,
     "metadata": {},
     "output_type": "execute_result"
    }
   ],
   "source": [
    "messages.head()"
   ]
  },
  {
   "cell_type": "markdown",
   "metadata": {},
   "source": [
    "## Cleaning Data"
   ]
  },
  {
   "cell_type": "code",
   "execution_count": 4,
   "metadata": {},
   "outputs": [],
   "source": [
    "df = pd.DataFrame(messages, columns = ['id', 'text', 'person_gender', 'person_age'])\n",
    "df = df.drop(df[(df.person_gender != \"male\") & (df.person_gender != \"female\")].index)\n",
    "df = df.drop(df[(df.person_age != \"10s\") & (df.person_age != \"20s\") & (df.person_age != \"30s\")].index)\n"
   ]
  },
  {
   "cell_type": "markdown",
   "metadata": {},
   "source": [
    "## Test / Dev / Train Split"
   ]
  },
  {
   "cell_type": "code",
   "execution_count": 5,
   "metadata": {},
   "outputs": [],
   "source": [
    "generated_train_set, generated_test_set = train_test_split(df, test_size=0.2,)\n",
    "\n",
    "test_df = pd.DataFrame(generated_test_set, columns = ['id', 'text', 'person_gender', 'person_age'])\n",
    "test_df = test_df.drop(test_df[(test_df.person_gender != \"male\") & (test_df.person_gender != \"female\")].index)\n",
    "test_df = test_df.drop(test_df[(test_df.person_age != \"10s\") & (test_df.person_age != \"20s\") & (test_df.person_age != \"30s\")].index)\n",
    "test_df.to_csv('test.csv', index=False)"
   ]
  },
  {
   "cell_type": "markdown",
   "metadata": {},
   "source": [
    "## Testdatei einlesen"
   ]
  },
  {
   "cell_type": "code",
   "execution_count": 6,
   "metadata": {},
   "outputs": [],
   "source": [
    "#Hier die Testdatei einlesen:\n",
    "#-------------------------------------------\n",
    "test_set = pd.read_csv('test.csv', sep=',')\n",
    "#-------------------------------------------"
   ]
  },
  {
   "cell_type": "code",
   "execution_count": 7,
   "metadata": {},
   "outputs": [
    {
     "name": "stdout",
     "output_type": "stream",
     "text": [
      "train set:  80000\n",
      "test set:  20000\n"
     ]
    }
   ],
   "source": [
    "train_set = generated_train_set\n",
    "train_set = train_set.astype(dtype='<U6')\n",
    "\n",
    "Y_train_gender = train_set['person_gender'].values\n",
    "Y_test_gender = test_set['person_gender'].values\n",
    "Y_test_gender = Y_test_gender.astype(dtype='<U6')\n",
    "\n",
    "Y_train_age = train_set['person_age'].values\n",
    "Y_test_age = test_set['person_age'].values\n",
    "Y_test_age = Y_test_age.astype(dtype='<U6')\n",
    "\n",
    "Y_train_combo = train_set['person_gender'] + '' + train_set['person_age']\n",
    "Y_test_combo = test_set['person_gender'] + '' + test_set['person_age']\n",
    "Y_test_combo = Y_test_combo.astype(dtype='<U6')\n",
    "\n",
    "print('train set: ', len(train_set))\n",
    "print('test set: ', len(test_set)) "
   ]
  },
  {
   "cell_type": "markdown",
   "metadata": {},
   "source": [
    "## Cleaning Training Set"
   ]
  },
  {
   "cell_type": "code",
   "execution_count": 8,
   "metadata": {},
   "outputs": [],
   "source": [
    "train_df = pd.DataFrame(generated_train_set, columns = ['id', 'text', 'person_gender', 'person_age'])\n",
    "train_df.text = train_df.text.str.replace('<[^<]+?>', '')\n",
    "train_df['text'] = train_df['text'].str.replace('\\d+', '')\n",
    "train_df['text'] = train_df['text'].str.replace('[^\\w\\s]', '')"
   ]
  },
  {
   "cell_type": "markdown",
   "metadata": {},
   "source": [
    "## Vectorizer\n",
    "Prozesse wie Lemmatisieren, Stemming und entfernen von Stopwörtern wurden bewusst weggelassen, da sich diese Operationen negativ auf die Genauigkeit so wie auch Performance ausgewirkt hatten.\n",
    "#### Warnung: dieser Schritt dauert 5-15min, je nach Rechnerleistung!"
   ]
  },
  {
   "cell_type": "code",
   "execution_count": 9,
   "metadata": {},
   "outputs": [],
   "source": [
    "vectorizer = CountVectorizer(#LemmaTokenizer(),\n",
    "                             #stop_words='english'\n",
    "                             lowercase=True, \n",
    "                             ngram_range=(4,4),\n",
    "                             analyzer = \"word\"\n",
    "                            )\n",
    "X_train_counts = vectorizer.fit_transform(train_set['text'].values)\n",
    "X_test_counts = vectorizer.transform(test_set['text'].values)\n",
    "\n",
    "\n",
    "#Tokenizer aufbereitet für den Countvectorizer, falls benötigt:\n",
    "class LemmaTokenizer(object):\n",
    "    def __init__(self):\n",
    "        self.wnl = WordNetLemmatizer()\n",
    "    def __call__(self, articles):\n",
    "        return [self.wnl.lemmatize(t) for t in word_tokenize(articles)]\n",
    "    \n",
    "class StemmerTokenizer(object):\n",
    "    def __init__(self):\n",
    "        self.wnl = PorterStemmer()\n",
    "    def __call__(self, articles):\n",
    "        return [self.wnl.stem(t) for t in word_tokenize(articles)]"
   ]
  },
  {
   "cell_type": "markdown",
   "metadata": {},
   "source": [
    "## Transformer"
   ]
  },
  {
   "cell_type": "code",
   "execution_count": 10,
   "metadata": {},
   "outputs": [],
   "source": [
    "tfidf_transformer = TfidfTransformer()\n",
    "X_train_tfidf = tfidf_transformer.fit_transform(X_train_counts)\n",
    "X_test_tfidf = tfidf_transformer.transform(X_test_counts)"
   ]
  },
  {
   "cell_type": "markdown",
   "metadata": {},
   "source": [
    "## Classifiers"
   ]
  },
  {
   "cell_type": "code",
   "execution_count": 11,
   "metadata": {},
   "outputs": [],
   "source": [
    "classifier_NB_gender = OneVsRestClassifier(MultinomialNB(fit_prior=True, class_prior=None)).fit(X_train_tfidf, Y_train_gender)\n",
    "classifier_NB_age = OneVsRestClassifier(MultinomialNB(fit_prior=False)).fit(X_train_tfidf, Y_train_age)\n",
    "classifier_NB_combo = MultinomialNB(fit_prior=False).fit(X_train_tfidf, Y_train_combo)"
   ]
  },
  {
   "cell_type": "markdown",
   "metadata": {},
   "source": [
    "## Classify"
   ]
  },
  {
   "cell_type": "code",
   "execution_count": 12,
   "metadata": {},
   "outputs": [],
   "source": [
    "predicted_gender = classifier_NB_gender.predict(X_test_tfidf)\n",
    "accuracy_gender = accuracy_score(Y_test_gender, predicted_gender)\n",
    "\n",
    "predicted_age = classifier_NB_age.predict(X_test_tfidf)\n",
    "accuracy_age = accuracy_score(Y_test_age, predicted_age)\n",
    "\n",
    "predicted_combo = classifier_NB_combo.predict(X_test_tfidf)\n",
    "accuracy_combo = accuracy_score(Y_test_combo, predicted_combo)"
   ]
  },
  {
   "cell_type": "markdown",
   "metadata": {},
   "source": [
    "## Confusion Matrix"
   ]
  },
  {
   "cell_type": "code",
   "execution_count": 13,
   "metadata": {},
   "outputs": [],
   "source": [
    "def plot_confusion_matrix_(cm, classes, title = 'Confusion matrix', cmap = plt.cm.Blues):\n",
    "    plt.title(title)\n",
    "    tick_marks = np.arange(len(classes))\n",
    "    plt.xticks(tick_marks, classes, rotation = 45)\n",
    "    plt.yticks(tick_marks, classes)\n",
    "\n",
    "    cm_norm = cm.astype('float') / cm.sum(axis=1)[:, np.newaxis]\n",
    "    cm_norm[np.isnan(cm_norm)] = 0\n",
    "    cm_norm = np.around(cm_norm, decimals = 3)\n",
    "        \n",
    "    plt.imshow(cm_norm, interpolation='nearest', cmap = cmap)\n",
    "    \n",
    "    thresh = cm_norm.max() / 2.\n",
    "    for i, j in itertools.product(range(cm_norm.shape[0]), range(cm_norm.shape[1])):\n",
    "        plt.text(j, i, cm[i, j], horizontalalignment=\"center\", color=\"black\" if cm_norm[i, j] > thresh else \"black\")\n",
    "\n",
    "    plt.tight_layout()\n",
    "    plt.ylabel('True label')\n",
    "    plt.xlabel('Predicted label')\n",
    "    plt.show()"
   ]
  },
  {
   "cell_type": "markdown",
   "metadata": {},
   "source": [
    "## Auswertung"
   ]
  },
  {
   "cell_type": "code",
   "execution_count": 14,
   "metadata": {},
   "outputs": [
    {
     "data": {
      "image/png": "[encoded data removed]",
      "text/plain": [
       "<Figure size 432x288 with 1 Axes>"
      ]
     },
     "metadata": {
      "needs_background": "light"
     },
     "output_type": "display_data"
    },
    {
     "name": "stdout",
     "output_type": "stream",
     "text": [
      "Accuracy:  0.62555\n",
      "              precision    recall  f1-score   support\n",
      "\n",
      "      female       0.61      0.59      0.60      9502\n",
      "        male       0.64      0.66      0.65     10498\n",
      "\n",
      "   micro avg       0.63      0.63      0.63     20000\n",
      "   macro avg       0.62      0.62      0.62     20000\n",
      "weighted avg       0.63      0.63      0.63     20000\n",
      "\n",
      "---------------------------------------------------------------------\n"
     ]
    },
    {
     "data": {
      "image/png": "[encoded data removed]",
      "text/plain": [
       "<Figure size 432x288 with 1 Axes>"
      ]
     },
     "metadata": {
      "needs_background": "light"
     },
     "output_type": "display_data"
    },
    {
     "name": "stdout",
     "output_type": "stream",
     "text": [
      "Accuracy:  0.5869\n",
      "              precision    recall  f1-score   support\n",
      "\n",
      "         10s       0.64      0.08      0.15      3245\n",
      "         20s       0.68      0.20      0.31      6033\n",
      "         30s       0.58      0.96      0.72     10722\n",
      "\n",
      "   micro avg       0.59      0.59      0.59     20000\n",
      "   macro avg       0.63      0.41      0.39     20000\n",
      "weighted avg       0.62      0.59      0.50     20000\n",
      "\n",
      "---------------------------------------------------------------------\n"
     ]
    },
    {
     "data": {
      "image/png": "[encoded data removed]",
      "text/plain": [
       "<Figure size 432x288 with 1 Axes>"
      ]
     },
     "metadata": {
      "needs_background": "light"
     },
     "output_type": "display_data"
    },
    {
     "name": "stdout",
     "output_type": "stream",
     "text": [
      "Accuracy:  0.3741\n",
      "              precision    recall  f1-score   support\n",
      "\n",
      "   female10s       0.11      0.07      0.09      1232\n",
      "   female20s       0.53      0.09      0.16      2401\n",
      "   female30s       0.35      0.90      0.50      5869\n",
      "     male10s       0.62      0.09      0.16      2013\n",
      "     male20s       0.53      0.19      0.28      3632\n",
      "     male30s       0.53      0.20      0.29      4853\n",
      "\n",
      "   micro avg       0.37      0.37      0.37     20000\n",
      "   macro avg       0.45      0.26      0.25     20000\n",
      "weighted avg       0.46      0.37      0.31     20000\n",
      "\n"
     ]
    }
   ],
   "source": [
    "cm_gender = confusion_matrix(Y_test_gender, predicted_gender)\n",
    "plot_confusion_matrix_(cm_gender, ['Female', 'Male'], title = 'Gender Classification')\n",
    "print('Accuracy: ', accuracy_gender)\n",
    "print(classification_report(Y_test_gender, predicted_gender))\n",
    "print('---------------------------------------------------------------------')\n",
    "\n",
    "cm_age = confusion_matrix(Y_test_age, predicted_age)\n",
    "plot_confusion_matrix_(cm_age, ['10s', '20s', '30s'], title = 'Age Classification')\n",
    "print('Accuracy: ', accuracy_age)\n",
    "print(classification_report(Y_test_age, predicted_age))\n",
    "print('---------------------------------------------------------------------')\n",
    "\n",
    "cm_combo = confusion_matrix(Y_test_combo, predicted_combo)\n",
    "plot_confusion_matrix_(cm_combo, ['Female 10s', 'Female 20s', 'Female 30s', 'Male 10s', 'Male 20s', 'Male 30s'], title = 'Combo Classification')\n",
    "print('Accuracy: ', accuracy_combo)\n",
    "print(classification_report(Y_test_combo, predicted_combo))"
   ]
  },
  {
   "cell_type": "code",
   "execution_count": null,
   "metadata": {},
   "outputs": [],
   "source": []
  }
 ],
 "metadata": {
  "kernelspec": {
   "display_name": "Python 3",
   "language": "python",
   "name": "python3"
  },
  "language_info": {
   "codemirror_mode": {
    "name": "ipython",
    "version": 3
   },
   "file_extension": ".py",
   "mimetype": "text/x-python",
   "name": "python",
   "nbconvert_exporter": "python",
   "pygments_lexer": "ipython3",
   "version": "3.7.4"
  }
 },
 "nbformat": 4,
 "nbformat_minor": 4
}
